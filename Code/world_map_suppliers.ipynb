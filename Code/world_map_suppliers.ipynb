{
 "cells": [
  {
   "cell_type": "code",
   "execution_count": 1,
   "metadata": {},
   "outputs": [
    {
     "ename": "ModuleNotFoundError",
     "evalue": "No module named 'geopandas'",
     "output_type": "error",
     "traceback": [
      "\u001b[1;31m---------------------------------------------------------------------------\u001b[0m",
      "\u001b[1;31mModuleNotFoundError\u001b[0m                       Traceback (most recent call last)",
      "\u001b[1;32m~\\AppData\\Local\\Temp/ipykernel_22732/1080452191.py\u001b[0m in \u001b[0;36m<module>\u001b[1;34m\u001b[0m\n\u001b[0;32m      1\u001b[0m \u001b[1;32mimport\u001b[0m \u001b[0mrequests\u001b[0m\u001b[1;33m\u001b[0m\u001b[1;33m\u001b[0m\u001b[0m\n\u001b[0;32m      2\u001b[0m \u001b[1;32mimport\u001b[0m \u001b[0mpandas\u001b[0m \u001b[1;32mas\u001b[0m \u001b[0mpd\u001b[0m\u001b[1;33m\u001b[0m\u001b[1;33m\u001b[0m\u001b[0m\n\u001b[1;32m----> 3\u001b[1;33m \u001b[1;32mimport\u001b[0m \u001b[0mgeopandas\u001b[0m \u001b[1;32mas\u001b[0m \u001b[0mgpd\u001b[0m\u001b[1;33m\u001b[0m\u001b[1;33m\u001b[0m\u001b[0m\n\u001b[0m\u001b[0;32m      4\u001b[0m \u001b[1;32mimport\u001b[0m \u001b[0mnumpy\u001b[0m \u001b[1;32mas\u001b[0m \u001b[0mnp\u001b[0m\u001b[1;33m\u001b[0m\u001b[1;33m\u001b[0m\u001b[0m\n\u001b[0;32m      5\u001b[0m \u001b[1;32mimport\u001b[0m \u001b[0mjson\u001b[0m\u001b[1;33m\u001b[0m\u001b[1;33m\u001b[0m\u001b[0m\n",
      "\u001b[1;31mModuleNotFoundError\u001b[0m: No module named 'geopandas'"
     ]
    }
   ],
   "source": [
    "import requests\n",
    "import pandas as pd\n",
    "import geopandas as gpd\n",
    "import numpy as np\n",
    "import json\n",
    "import math\n",
    "# from haversine import haversine\n",
    "# import ipfn\n",
    "# import networkx\n",
    "import matplotlib.pyplot as plt\n",
    "from matplotlib import patheffects\n",
    "%matplotlib inline  "
   ]
  },
  {
   "cell_type": "code",
   "execution_count": null,
   "metadata": {},
   "outputs": [],
   "source": [
    "world = gpd.read_file(gpd.datasets.get_path('naturalearth_lowres'))\n",
    "\n",
    "cities = gpd.read_file(gpd.datasets.get_path('naturalearth_cities'))"
   ]
  },
  {
   "cell_type": "code",
   "execution_count": null,
   "metadata": {},
   "outputs": [],
   "source": [
    "world.head()"
   ]
  },
  {
   "cell_type": "code",
   "execution_count": null,
   "metadata": {},
   "outputs": [],
   "source": [
    "world.plot()"
   ]
  },
  {
   "cell_type": "code",
   "execution_count": null,
   "metadata": {
    "scrolled": true
   },
   "outputs": [],
   "source": [
    "## import demand and supply\n",
    "nodes = pd.read_csv('nodes.csv')\n",
    "nodes= nodes[['Country','Supply']]\n",
    "nodes"
   ]
  },
  {
   "cell_type": "code",
   "execution_count": null,
   "metadata": {},
   "outputs": [],
   "source": [
    "## import demand and supply\n",
    "tem_ = pd.read_csv('flows.csv')\n",
    "\n",
    "tem_\n",
    "\n",
    "## Find number of customer for top suppliers\n",
    "display(tem_.groupby('Partner Name').count().sort_values(by='Reporter Name',ascending=False).head())\n",
    "\n",
    "## Find number of suppliers for importers\n",
    "display(tem_.groupby('Reporter Name').count().sort_values(by='Partner Name',ascending=False).head(10))\n"
   ]
  },
  {
   "cell_type": "code",
   "execution_count": null,
   "metadata": {},
   "outputs": [],
   "source": [
    "world = world.replace({'name': {'United States of America': 'United States',\n",
    "                       'Dem. Rep. Congo': 'Rep. Congo',\n",
    "                       'W. Sahara':'Western Sahara','Dominican Rep.': 'Dominica',\n",
    "                        'Central African Rep.': 'Central African Republic',\n",
    "                        'Bosnia and Herz.':'Bosnia and Herzegovina',\n",
    "                        'Czechia':'Czech Republic'\n",
    "                       }})"
   ]
  },
  {
   "cell_type": "code",
   "execution_count": null,
   "metadata": {},
   "outputs": [],
   "source": [
    "world"
   ]
  },
  {
   "cell_type": "code",
   "execution_count": null,
   "metadata": {},
   "outputs": [],
   "source": [
    "world_ = pd.merge(world, nodes, left_on=\"name\", right_on = 'Country',how=\"outer\")\n",
    "world_.name.unique()"
   ]
  },
  {
   "cell_type": "code",
   "execution_count": null,
   "metadata": {},
   "outputs": [],
   "source": [
    "# world_[['name','Supply']].describe()"
   ]
  },
  {
   "cell_type": "code",
   "execution_count": null,
   "metadata": {},
   "outputs": [],
   "source": [
    "# world_.Supply.hist(bins = 100, figsize=(14,8));"
   ]
  },
  {
   "cell_type": "code",
   "execution_count": null,
   "metadata": {},
   "outputs": [],
   "source": [
    "# list(world.sort_values(by='name').name)\n",
    "# list(world.name)"
   ]
  },
  {
   "cell_type": "code",
   "execution_count": null,
   "metadata": {
    "scrolled": false
   },
   "outputs": [],
   "source": [
    "# list(world_.idx)\n",
    "# world.name.unique()"
   ]
  },
  {
   "cell_type": "code",
   "execution_count": null,
   "metadata": {},
   "outputs": [],
   "source": [
    "# list(world_[['name','Country']][ (world_.Country.isnull()) ].name.values)\n",
    "\n",
    "# nodes.Country.unique()"
   ]
  },
  {
   "cell_type": "code",
   "execution_count": null,
   "metadata": {
    "scrolled": true
   },
   "outputs": [],
   "source": [
    "list(world_[['name','Country']][ (world_.name.isnull()) ].Country.values) #(world_.name.isnull()) |"
   ]
  },
  {
   "cell_type": "code",
   "execution_count": null,
   "metadata": {},
   "outputs": [],
   "source": [
    "world_.Supply.describe()"
   ]
  },
  {
   "cell_type": "code",
   "execution_count": null,
   "metadata": {},
   "outputs": [],
   "source": [
    "## create supplier class\n",
    "sup_classes = pd.cut(world_.Supply,bins=[-1,0.000002,0.000200,0.003844,0.990375],labels=['None','Low','Medium','High'])"
   ]
  },
  {
   "cell_type": "code",
   "execution_count": null,
   "metadata": {},
   "outputs": [],
   "source": [
    "world_['sup_classes'] = sup_classes"
   ]
  },
  {
   "cell_type": "code",
   "execution_count": null,
   "metadata": {
    "scrolled": true
   },
   "outputs": [],
   "source": [
    "# world_['sup_classes']  = world_['sup_classes'].fillna('None')\n",
    "# world_['supply']  = world_['supply'].fillna(-1)\n",
    "world_[world_.name=='Brazil']"
   ]
  },
  {
   "cell_type": "code",
   "execution_count": null,
   "metadata": {},
   "outputs": [],
   "source": [
    "## save to csv\n",
    "world_.to_csv('world.csv')"
   ]
  },
  {
   "cell_type": "code",
   "execution_count": null,
   "metadata": {},
   "outputs": [],
   "source": [
    "fig,ax = plt.subplots(figsize=(14,14))\n",
    "# plt.figure(figsize=(14,14))\n",
    "world_.plot(column='sup_classes',figsize=(14,14), cmap='cool', ax=ax,\n",
    "            missing_kwds={'color': 'beige',\"label\": \"Missing values\",}, legend=True)\n",
    "\n",
    "# # Hide the right and top spines\n",
    "# ax.spines['right'].set_visible(False)\n",
    "# ax.spines['top'].set_visible(False)\n",
    "# ax.spines['left'].set_visible(False)\n",
    "# ax.spines['bottom'].set_visible(False)\n",
    "plt.axis('off')\n",
    ";"
   ]
  },
  {
   "cell_type": "code",
   "execution_count": null,
   "metadata": {},
   "outputs": [],
   "source": [
    "fig,ax = plt.subplots(figsize=(14,14))\n",
    "\n",
    "plt.rcParams.update({'font.size': 16})\n",
    "# plt.figure(figsize=(14,14))\n",
    "world_.plot(column='sup_classes',figsize=(14,14), cmap='cool', ax=ax,\n",
    "            missing_kwds={'color': 'beige',\"label\": \"Missing values\",}, legend=True)\n",
    "plt.title('Worldwide Categorization of Coffee Suppiers in 2019 by Supply Capacity',  fontsize=20)\n",
    "# ax.legend()\n",
    "# # Hide the right and top spines\n",
    "# ax.spines['right'].set_visible(False)\n",
    "# ax.spines['top'].set_visible(False)\n",
    "# ax.spines['left'].set_visible(False)\n",
    "# ax.spines['bottom'].set_visible(False)\n",
    "plt.axis('off')\n",
    ";"
   ]
  },
  {
   "cell_type": "code",
   "execution_count": null,
   "metadata": {},
   "outputs": [],
   "source": [
    "labels=['None','Low','Medium','high','Missing']\n",
    "fig, ax = plt.subplots(figsize=(15,10))\n",
    "\n",
    "world_.plot(column='sup_classes', cmap='cool',  ax=ax , scheme=\"quantiles\",legend=True, \n",
    "            missing_kwds={'color': 'lightgrey',\"color\": \"lightgrey\",\n",
    "                        \"edgecolor\": \"beige\",\"hatch\": \"///\",\"label\": \"Missing values\", }) #legend=True,ax=ax,\n",
    "# plt.legend(['None','Low','Medium','high','Missing']);\n",
    "plt.title('Worldwide Categorization of Coffee Suppiers in 2019 by Supply Capacity',  fontsize=20)\n",
    "plt.axis('off');"
   ]
  },
  {
   "cell_type": "code",
   "execution_count": null,
   "metadata": {},
   "outputs": [],
   "source": [
    "# ## Find number of suppliers for top importers\n",
    "# display(df_.groupby('out_k').count().sort_values(by='in_k',ascending=False))\n",
    "nodes.sort_values(by=['Supply'], ascending=False)"
   ]
  },
  {
   "cell_type": "code",
   "execution_count": null,
   "metadata": {},
   "outputs": [],
   "source": [
    "tem2 = nodes.sort_values(by=['Supply'], ascending=False)\n",
    "plt.barh(tem2[:5].Country,tem2[:5].Supply, color = 'indigo')\n",
    "plt.title('Top 5 Coffee producing countries in 2019')\n",
    "plt.xlabel('Relative Quantity of Coffee Supplied');"
   ]
  },
  {
   "cell_type": "code",
   "execution_count": null,
   "metadata": {},
   "outputs": [],
   "source": [
    "market_share = 100*tem2.Supply/ sum(tem2.Supply)\n",
    "print(market_share[:5].sum())\n",
    "market_share[:5]"
   ]
  },
  {
   "cell_type": "code",
   "execution_count": null,
   "metadata": {},
   "outputs": [],
   "source": [
    "import matplotlib.pyplot as plt\n",
    "# Pie chart\n",
    "labels = list(tem2[:5].Country)\n",
    "sizes =[26.8, 11.4,6.8,5.1,4.3]\n",
    "\n",
    "names=[]\n",
    "for ii in range(len(labels)):\n",
    "    names.append(labels[ii] +' - '+ str(sizes[ii]))\n",
    "            \n",
    "#colors\n",
    "# colors = ['#ff9999','#99ff79','#66b3ff','#58ff79', '#ffcc99']\n",
    "colors =['#E0BBE4','#957DAD','#D291BC','#FEC8D8','#FFDFD3']\n",
    "#explsion\n",
    "explode = (0.03,0.03,0.03,0.03,0.03)\n",
    " \n",
    "fig1, ax1 = plt.subplots()\n",
    "ax1.pie(sizes, colors = colors, labels=labels,  explode = explode,\n",
    "       autopct='%1.1f%%', startangle=150, pctdistance=0.85,) #autopct='%1.1f%%',\n",
    "#draw circle\n",
    "centre_circle = plt.Circle((0,0),0.70,fc='white')\n",
    "fig = plt.gcf()\n",
    "fig.gca().add_artist(centre_circle)\n",
    "# Equal aspect ratio ensures that pie is drawn as a circle\n",
    "ax1.axis('equal')  \n",
    "plt.tight_layout()\n",
    "\n",
    "# plt.setp(autotexts, size=8, weight=\"bold\")\n",
    "\n",
    "ax1.set_title(\"Market share(%) for top 5 Coffee producers\")#, loc = \"left\")\n",
    "\n",
    "\n",
    "plt.show()\n",
    "\n",
    "\n",
    "\n",
    "\n"
   ]
  },
  {
   "cell_type": "code",
   "execution_count": null,
   "metadata": {},
   "outputs": [],
   "source": [
    "import matplotlib.pyplot as plt\n",
    "# Pie chart\n",
    "labels = list(tem2[:5].Country)\n",
    "sizes =[26.4, 11.4,6.9,5.1,4.2]\n",
    "\n",
    "names=[]\n",
    "for ii in range(len(labels)):\n",
    "    names.append(labels[ii] +' - '+ str(sizes[ii]))\n",
    "            \n",
    "#colors\n",
    "# colors = ['#ff9999','#99ff79','#66b3ff','#58ff79', '#ffcc99']\n",
    "colors =['#999999','#777777','#555555','#333333','#111111']\n",
    "#explsion\n",
    "explode = (0.03,0.03,0.03,0.03,0.03)\n",
    " \n",
    "fig1, ax1 = plt.subplots()\n",
    "_, _, autotexts =ax1.pie(sizes, colors = colors, labels=labels,  explode = explode,\n",
    "       autopct='%1.1f%%', startangle=150, pctdistance=0.85,) #autopct='%1.1f%%',\n",
    "#draw circle\n",
    "centre_circle = plt.Circle((0,0),0.70,fc='white')\n",
    "fig = plt.gcf()\n",
    "fig.gca().add_artist(centre_circle)\n",
    "# Equal aspect ratio ensures that pie is drawn as a circle\n",
    "ax1.axis('equal')  \n",
    "plt.tight_layout()\n",
    "\n",
    "# plt.setp(autotexts, size=8, weight=\"bold\")\n",
    "\n",
    "ax1.set_title(\"Market share(%) for top 5 Coffee producers\")#, loc = \"left\")\n",
    "for autotext in autotexts:\n",
    "    autotext.set_color('white')\n",
    "\n",
    "\n",
    "plt.show()\n",
    "\n"
   ]
  },
  {
   "cell_type": "code",
   "execution_count": null,
   "metadata": {},
   "outputs": [],
   "source": []
  }
 ],
 "metadata": {
  "kernelspec": {
   "display_name": "Python 3 (ipykernel)",
   "language": "python",
   "name": "python3"
  },
  "language_info": {
   "codemirror_mode": {
    "name": "ipython",
    "version": 3
   },
   "file_extension": ".py",
   "mimetype": "text/x-python",
   "name": "python",
   "nbconvert_exporter": "python",
   "pygments_lexer": "ipython3",
   "version": "3.9.7"
  }
 },
 "nbformat": 4,
 "nbformat_minor": 4
}
